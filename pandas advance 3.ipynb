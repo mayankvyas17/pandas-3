{
 "cells": [
  {
   "cell_type": "code",
   "execution_count": 1,
   "id": "40e1075c",
   "metadata": {},
   "outputs": [],
   "source": [
    "#Q1.\n",
    "import pandas as pd"
   ]
  },
  {
   "cell_type": "code",
   "execution_count": 2,
   "id": "990f0083",
   "metadata": {},
   "outputs": [],
   "source": [
    "course_name=[\"Data science\",\"machine learning\",\"Big data\",\"Data Engineer\"]\n",
    "Duration=[2,3,6,4]"
   ]
  },
  {
   "cell_type": "code",
   "execution_count": 3,
   "id": "5d4f76b1",
   "metadata": {},
   "outputs": [],
   "source": [
    "df=pd.DataFrame(data={\"course_name\":course_name,\"Duration\":Duration})"
   ]
  },
  {
   "cell_type": "code",
   "execution_count": 4,
   "id": "ae6c3ed0",
   "metadata": {},
   "outputs": [
    {
     "data": {
      "text/html": [
       "<div>\n",
       "<style scoped>\n",
       "    .dataframe tbody tr th:only-of-type {\n",
       "        vertical-align: middle;\n",
       "    }\n",
       "\n",
       "    .dataframe tbody tr th {\n",
       "        vertical-align: top;\n",
       "    }\n",
       "\n",
       "    .dataframe thead th {\n",
       "        text-align: right;\n",
       "    }\n",
       "</style>\n",
       "<table border=\"1\" class=\"dataframe\">\n",
       "  <thead>\n",
       "    <tr style=\"text-align: right;\">\n",
       "      <th></th>\n",
       "      <th>course_name</th>\n",
       "      <th>Duration</th>\n",
       "    </tr>\n",
       "  </thead>\n",
       "  <tbody>\n",
       "    <tr>\n",
       "      <th>0</th>\n",
       "      <td>Data science</td>\n",
       "      <td>2</td>\n",
       "    </tr>\n",
       "    <tr>\n",
       "      <th>1</th>\n",
       "      <td>machine learning</td>\n",
       "      <td>3</td>\n",
       "    </tr>\n",
       "    <tr>\n",
       "      <th>2</th>\n",
       "      <td>Big data</td>\n",
       "      <td>6</td>\n",
       "    </tr>\n",
       "    <tr>\n",
       "      <th>3</th>\n",
       "      <td>Data Engineer</td>\n",
       "      <td>4</td>\n",
       "    </tr>\n",
       "  </tbody>\n",
       "</table>\n",
       "</div>"
      ],
      "text/plain": [
       "        course_name  Duration\n",
       "0      Data science         2\n",
       "1  machine learning         3\n",
       "2          Big data         6\n",
       "3     Data Engineer         4"
      ]
     },
     "execution_count": 4,
     "metadata": {},
     "output_type": "execute_result"
    }
   ],
   "source": [
    "df"
   ]
  },
  {
   "cell_type": "code",
   "execution_count": 6,
   "id": "68249d7f",
   "metadata": {},
   "outputs": [
    {
     "data": {
      "text/html": [
       "<div>\n",
       "<style scoped>\n",
       "    .dataframe tbody tr th:only-of-type {\n",
       "        vertical-align: middle;\n",
       "    }\n",
       "\n",
       "    .dataframe tbody tr th {\n",
       "        vertical-align: top;\n",
       "    }\n",
       "\n",
       "    .dataframe thead th {\n",
       "        text-align: right;\n",
       "    }\n",
       "</style>\n",
       "<table border=\"1\" class=\"dataframe\">\n",
       "  <thead>\n",
       "    <tr style=\"text-align: right;\">\n",
       "      <th></th>\n",
       "      <th>course_name</th>\n",
       "      <th>Duration</th>\n",
       "    </tr>\n",
       "  </thead>\n",
       "  <tbody>\n",
       "    <tr>\n",
       "      <th>1</th>\n",
       "      <td>machine learning</td>\n",
       "      <td>3</td>\n",
       "    </tr>\n",
       "  </tbody>\n",
       "</table>\n",
       "</div>"
      ],
      "text/plain": [
       "        course_name  Duration\n",
       "1  machine learning         3"
      ]
     },
     "execution_count": 6,
     "metadata": {},
     "output_type": "execute_result"
    }
   ],
   "source": [
    "df[1:2]"
   ]
  },
  {
   "cell_type": "code",
   "execution_count": null,
   "id": "fe1ef8e2",
   "metadata": {},
   "outputs": [],
   "source": [
    "#Q2.\n",
    "In pandas, the functions loc and iloc are used to access and retrieve data from a DataFrame. However, they have slight differences in how they handle indexing and slicing:\n",
    "\n",
    "loc:\n",
    "loc is primarily label-based. It accepts labels or boolean arrays as input to access data.\n",
    "It is used to access data using labels of rows or columns.\n",
    "The indexing with loc includes the endpoint.\n",
    "When using loc, the index labels are used to select rows or columns.\n",
    "The syntax for using loc is df.loc[row_indexer, column_indexer].\n",
    "iloc:\n",
    "iloc is primarily integer-based. It accepts integer indices or boolean arrays as input to access data.\n",
    "It is used to access data using integer-based positions of rows or columns.\n",
    "The indexing with iloc excludes the endpoint.\n",
    "When using iloc, the integer-based positions are used to select rows or columns.\n",
    "The syntax for using iloc is df.iloc[row_indexer, column_indexer].\n",
    "\n"
   ]
  },
  {
   "cell_type": "code",
   "execution_count": 9,
   "id": "59d88dcd",
   "metadata": {},
   "outputs": [],
   "source": [
    "#Q3.\n",
    "import pandas as pd\n",
    "import numpy as np\n",
    "columns = ['column_1', 'column_2', 'column_3', 'column_4', 'column_5', 'column_6']\n",
    "indices = [1,2,3,4,5,6]\n",
    "#Creating a dataframe:\n",
    "df1 = pd.DataFrame(np.random.rand(6,6), columns = columns, index = indices)"
   ]
  },
  {
   "cell_type": "code",
   "execution_count": 10,
   "id": "43c9aab0",
   "metadata": {},
   "outputs": [
    {
     "data": {
      "text/plain": [
       "column_1    0.038180\n",
       "column_2    0.932866\n",
       "column_3    0.236561\n",
       "column_4    0.062508\n",
       "column_5    0.869693\n",
       "column_6    0.065802\n",
       "Name: 2, dtype: float64"
      ]
     },
     "execution_count": 10,
     "metadata": {},
     "output_type": "execute_result"
    }
   ],
   "source": [
    "df1.loc[2]"
   ]
  },
  {
   "cell_type": "code",
   "execution_count": 11,
   "id": "93ed4a9b",
   "metadata": {},
   "outputs": [
    {
     "data": {
      "text/plain": [
       "column_1    0.185831\n",
       "column_2    0.087555\n",
       "column_3    0.584900\n",
       "column_4    0.243167\n",
       "column_5    0.896330\n",
       "column_6    0.501638\n",
       "Name: 3, dtype: float64"
      ]
     },
     "execution_count": 11,
     "metadata": {},
     "output_type": "execute_result"
    }
   ],
   "source": [
    "df1.iloc[2]"
   ]
  },
  {
   "cell_type": "code",
   "execution_count": 12,
   "id": "a4baf197",
   "metadata": {},
   "outputs": [
    {
     "name": "stdout",
     "output_type": "stream",
     "text": [
      "Mean of each column:\n",
      "column_1    0.459719\n",
      "column_2    0.822720\n",
      "column_3    0.431451\n",
      "column_4    0.459993\n",
      "column_5    0.235084\n",
      "column_6    0.585275\n",
      "dtype: float64\n",
      "\n",
      "Standard deviation of 'column_2':\n",
      "0.06089731363712696\n"
     ]
    }
   ],
   "source": [
    "#Q4.\n",
    "import pandas as pd\n",
    "import numpy as np\n",
    "\n",
    "# Create the DataFrame\n",
    "columns = ['column_1', 'column_2', 'column_3', 'column_4', 'column_5', 'column_6']\n",
    "indices = ['index_1', 'index_2', 'index_3', 'index_4', 'index_5', 'index_6']\n",
    "df1 = pd.DataFrame(np.random.rand(6, 6), columns=columns, index=indices)\n",
    "\n",
    "# Calculate mean of each column\n",
    "column_means = df1.mean()\n",
    "print(\"Mean of each column:\")\n",
    "print(column_means)\n",
    "\n",
    "# Calculate standard deviation of 'column_2'\n",
    "column_2_std = df1['column_2'].std()\n",
    "print(\"\\nStandard deviation of 'column_2':\")\n",
    "print(column_2_std)\n"
   ]
  },
  {
   "cell_type": "code",
   "execution_count": 22,
   "id": "eb4d1bba",
   "metadata": {},
   "outputs": [],
   "source": [
    "#Q5.\n",
    "import pandas as pd\n",
    "import numpy as np\n",
    "\n",
    "# Create the DataFrame\n",
    "columns = ['column_1', 'column_2', 'column_3', 'column_4', 'column_5', 'column_6']\n",
    "indices = ['index_1', 'index_2', 'index_3', 'index_4', 'index_5', 'index_6']\n",
    "df1 = pd.DataFrame(np.random.rand(6, 6), columns=columns, index=indices)\n",
    "\n",
    "# Replace the data in the second row of 'column_2' with a string variable\n",
    "df1.at['index_2', 'column_2'] = 'pwskills'\n",
    "\n",
    "\n"
   ]
  },
  {
   "cell_type": "code",
   "execution_count": 23,
   "id": "a164eff8",
   "metadata": {},
   "outputs": [
    {
     "data": {
      "text/html": [
       "<div>\n",
       "<style scoped>\n",
       "    .dataframe tbody tr th:only-of-type {\n",
       "        vertical-align: middle;\n",
       "    }\n",
       "\n",
       "    .dataframe tbody tr th {\n",
       "        vertical-align: top;\n",
       "    }\n",
       "\n",
       "    .dataframe thead th {\n",
       "        text-align: right;\n",
       "    }\n",
       "</style>\n",
       "<table border=\"1\" class=\"dataframe\">\n",
       "  <thead>\n",
       "    <tr style=\"text-align: right;\">\n",
       "      <th></th>\n",
       "      <th>column_1</th>\n",
       "      <th>column_2</th>\n",
       "      <th>column_3</th>\n",
       "      <th>column_4</th>\n",
       "      <th>column_5</th>\n",
       "      <th>column_6</th>\n",
       "    </tr>\n",
       "  </thead>\n",
       "  <tbody>\n",
       "    <tr>\n",
       "      <th>index_1</th>\n",
       "      <td>0.389143</td>\n",
       "      <td>0.429405</td>\n",
       "      <td>0.302049</td>\n",
       "      <td>0.271739</td>\n",
       "      <td>0.559862</td>\n",
       "      <td>0.294227</td>\n",
       "    </tr>\n",
       "    <tr>\n",
       "      <th>index_2</th>\n",
       "      <td>0.372661</td>\n",
       "      <td>pwskills</td>\n",
       "      <td>0.880076</td>\n",
       "      <td>0.143676</td>\n",
       "      <td>0.582140</td>\n",
       "      <td>0.732716</td>\n",
       "    </tr>\n",
       "    <tr>\n",
       "      <th>index_3</th>\n",
       "      <td>0.950188</td>\n",
       "      <td>0.002015</td>\n",
       "      <td>0.936780</td>\n",
       "      <td>0.969844</td>\n",
       "      <td>0.918371</td>\n",
       "      <td>0.283727</td>\n",
       "    </tr>\n",
       "    <tr>\n",
       "      <th>index_4</th>\n",
       "      <td>0.939098</td>\n",
       "      <td>0.837312</td>\n",
       "      <td>0.168951</td>\n",
       "      <td>0.412715</td>\n",
       "      <td>0.429296</td>\n",
       "      <td>0.050119</td>\n",
       "    </tr>\n",
       "    <tr>\n",
       "      <th>index_5</th>\n",
       "      <td>0.650309</td>\n",
       "      <td>0.942208</td>\n",
       "      <td>0.820815</td>\n",
       "      <td>0.039653</td>\n",
       "      <td>0.005174</td>\n",
       "      <td>0.687595</td>\n",
       "    </tr>\n",
       "    <tr>\n",
       "      <th>index_6</th>\n",
       "      <td>0.312953</td>\n",
       "      <td>0.758831</td>\n",
       "      <td>0.089547</td>\n",
       "      <td>0.270828</td>\n",
       "      <td>0.124067</td>\n",
       "      <td>0.003425</td>\n",
       "    </tr>\n",
       "  </tbody>\n",
       "</table>\n",
       "</div>"
      ],
      "text/plain": [
       "         column_1  column_2  column_3  column_4  column_5  column_6\n",
       "index_1  0.389143  0.429405  0.302049  0.271739  0.559862  0.294227\n",
       "index_2  0.372661  pwskills  0.880076  0.143676  0.582140  0.732716\n",
       "index_3  0.950188  0.002015  0.936780  0.969844  0.918371  0.283727\n",
       "index_4  0.939098  0.837312  0.168951  0.412715  0.429296  0.050119\n",
       "index_5  0.650309  0.942208  0.820815  0.039653  0.005174  0.687595\n",
       "index_6  0.312953  0.758831  0.089547  0.270828  0.124067  0.003425"
      ]
     },
     "execution_count": 23,
     "metadata": {},
     "output_type": "execute_result"
    }
   ],
   "source": [
    "df1"
   ]
  },
  {
   "cell_type": "code",
   "execution_count": 20,
   "id": "6daeefec",
   "metadata": {},
   "outputs": [],
   "source": [
    "df2=df1[\"column_2\"].mean"
   ]
  },
  {
   "cell_type": "code",
   "execution_count": 21,
   "id": "a0d2662f",
   "metadata": {},
   "outputs": [
    {
     "data": {
      "text/plain": [
       "<bound method NDFrame._add_numeric_operations.<locals>.mean of index_1              0.340585\n",
       "index_2    replacement_string\n",
       "index_3              0.066325\n",
       "index_4              0.863722\n",
       "index_5              0.839132\n",
       "index_6              0.068019\n",
       "Name: column_2, dtype: object>"
      ]
     },
     "execution_count": 21,
     "metadata": {},
     "output_type": "execute_result"
    }
   ],
   "source": [
    "df2"
   ]
  },
  {
   "cell_type": "code",
   "execution_count": null,
   "id": "7b208eec",
   "metadata": {},
   "outputs": [],
   "source": [
    "#Q6.\n",
    "In pandas, the window functions provide a way to perform calculations on a specific window or subset of data within a DataFrame. These functions operate on a specified window of data defined by a rolling or expanding window.\n",
    "\n",
    "Here's an overview of the types of window functions available in pandas:\n",
    "\n",
    "Rolling Window Functions:\n",
    "Rolling window functions operate on a fixed-size sliding window of data.\n",
    "The window size is specified using the window parameter, which determines the number of preceding or succeeding values included in the calculation.\n",
    "Examples of rolling window functions include:\n",
    "rolling.mean(): Calculates the mean value of the window.\n",
    "rolling.sum(): Calculates the sum of the values in the window.\n",
    "rolling.std(): Calculates the standard deviation of the window.\n",
    "rolling.min(): Finds the minimum value within the window.\n",
    "rolling.max(): Finds the maximum value within the window.\n",
    "rolling.count(): Counts the number of non-null values within the window.\n",
    "Expanding Window Functions:\n",
    "Expanding window functions include all data up to the current point and calculate the cumulative values.\n",
    "These functions consider the entire history of the data up to the current point.\n",
    "Examples of expanding window functions include:\n",
    "expanding.mean(): Calculates the mean of all values up to the current point.\n",
    "expanding.sum(): Calculates the sum of all values up to the current point.\n",
    "expanding.std(): Calculates the standard deviation of all values up to the current point.\n",
    "expanding.min(): Finds the minimum value within all values up to the current point.\n",
    "expanding.max(): Finds the maximum value within all values up to the current point.\n",
    "These window functions provide a powerful way to perform rolling and expanding calculations on time-series data or other sequential data where the order matters."
   ]
  },
  {
   "cell_type": "code",
   "execution_count": 31,
   "id": "8f089b7b",
   "metadata": {},
   "outputs": [],
   "source": [
    "#Q7.\n",
    "import pandas as pd\n",
    "df=pd.to_datetime(\"2023-5-24\")\n",
    "td=pd.Timedelta(days=1)"
   ]
  },
  {
   "cell_type": "code",
   "execution_count": 32,
   "id": "705a0959",
   "metadata": {},
   "outputs": [
    {
     "data": {
      "text/plain": [
       "Timestamp('2023-05-25 00:00:00')"
      ]
     },
     "execution_count": 32,
     "metadata": {},
     "output_type": "execute_result"
    }
   ],
   "source": [
    "df+td\n"
   ]
  },
  {
   "cell_type": "code",
   "execution_count": 33,
   "id": "3b71f263",
   "metadata": {},
   "outputs": [
    {
     "name": "stdout",
     "output_type": "stream",
     "text": [
      "Enter the first date (YYYY-MM-DD): 2023-02-23\n",
      "Enter the second date (YYYY-MM-DD): 2024-03-12\n",
      "Difference between the two dates:\n",
      "Days: 383\n",
      "Hours: 0\n",
      "Minutes: 0\n"
     ]
    }
   ],
   "source": [
    "#Q.8\n",
    "import pandas as pd\n",
    "\n",
    "# Prompt the user to enter the dates\n",
    "date1 = input(\"Enter the first date (YYYY-MM-DD): \")\n",
    "date2 = input(\"Enter the second date (YYYY-MM-DD): \")\n",
    "\n",
    "# Convert the input dates to pandas datetime objects\n",
    "date1 = pd.to_datetime(date1)\n",
    "date2 = pd.to_datetime(date2)\n",
    "\n",
    "# Calculate the difference between the two dates\n",
    "time_diff = date2 - date1\n",
    "\n",
    "# Extract the days, hours, and minutes from the timedelta\n",
    "days = time_diff.days\n",
    "hours = time_diff.seconds // 3600\n",
    "minutes = (time_diff.seconds // 60) % 60\n",
    "\n",
    "# Display the result\n",
    "print(\"Difference between the two dates:\")\n",
    "print(f\"Days: {days}\")\n",
    "print(f\"Hours: {hours}\")\n",
    "print(f\"Minutes: {minutes}\")\n"
   ]
  },
  {
   "cell_type": "code",
   "execution_count": null,
   "id": "312b1c05",
   "metadata": {},
   "outputs": [],
   "source": [
    "#Q9.\n",
    "import pandas as pd\n",
    "\n",
    "# Prompt the user to enter the file path\n",
    "file_path = input(\"Enter the file path of the CSV file: \")\n",
    "\n",
    "# Read the CSV file into a DataFrame\n",
    "df = pd.read_csv(file_path)\n",
    "\n",
    "# Prompt the user to enter the column name to convert\n",
    "column_name = input(\"Enter the column name to convert to categorical: \")\n",
    "\n",
    "# Prompt the user to enter the category order\n",
    "category_order = input(\"Enter the category order (comma-separated values): \")\n",
    "\n",
    "# Convert the specified column to categorical data type with the given category order\n",
    "df[column_name] = pd.Categorical(df[column_name], categories=category_order.split(\",\"), ordered=True)\n",
    "\n",
    "# Sort the DataFrame by the specified column\n",
    "df_sorted = df.sort_values(by=column_name)\n",
    "\n",
    "# Display the sorted data\n",
    "print(df_sorted)\n"
   ]
  },
  {
   "cell_type": "code",
   "execution_count": null,
   "id": "bf9d5051",
   "metadata": {},
   "outputs": [],
   "source": [
    "#Q10.\n",
    "import pandas as pd\n",
    "import matplotlib.pyplot as plt\n",
    "\n",
    "# Prompt the user to enter the file path\n",
    "file_path = input(\"Enter the file path of the CSV file: \")\n",
    "\n",
    "# Read the CSV file into a DataFrame\n",
    "df = pd.read_csv(file_path)\n",
    "\n",
    "# Convert the 'Date' column to datetime data type\n",
    "df['Date'] = pd.to_datetime(df['Date'])\n",
    "\n",
    "# Group the data by product category and date, and calculate the sum of sales\n",
    "df_grouped = df.groupby(['ProductCategory', 'Date'])['Sales'].sum().reset_index()\n",
    "\n",
    "# Pivot the data to have product categories as columns and dates as index\n",
    "df_pivot = df_grouped.pivot(index='Date', columns='ProductCategory', values='Sales')\n",
    "\n",
    "# Create a stacked bar chart\n",
    "df_pivot.plot(kind='bar', stacked=True, figsize=(10, 6))\n",
    "\n",
    "# Set the labels and title of the chart\n",
    "plt.xlabel('Date')\n",
    "plt.ylabel('Sales')\n",
    "plt.title('Sales of Each Product Category Over Time')\n",
    "\n",
    "# Display the chart\n",
    "plt.show()\n"
   ]
  },
  {
   "cell_type": "code",
   "execution_count": null,
   "id": "8466362c",
   "metadata": {},
   "outputs": [],
   "source": []
  }
 ],
 "metadata": {
  "kernelspec": {
   "display_name": "Python 3 (ipykernel)",
   "language": "python",
   "name": "python3"
  },
  "language_info": {
   "codemirror_mode": {
    "name": "ipython",
    "version": 3
   },
   "file_extension": ".py",
   "mimetype": "text/x-python",
   "name": "python",
   "nbconvert_exporter": "python",
   "pygments_lexer": "ipython3",
   "version": "3.9.13"
  }
 },
 "nbformat": 4,
 "nbformat_minor": 5
}
